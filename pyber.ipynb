{
 "cells": [
  {
   "cell_type": "code",
   "execution_count": 55,
   "metadata": {},
   "outputs": [],
   "source": [
    "%matplotlib inline\n",
    "# Dependencies and Setup\n",
    "import matplotlib.pyplot as plt\n",
    "import pandas as pd\n",
    "\n",
    "# File to Load (Remember to change these)\n",
    "city_data_to_load = \"data/city_data.csv\"\n",
    "ride_data_to_load = \"data/ride_data.csv\"\n",
    "\n",
    "# Read the City and Ride Data\n",
    "city_df = pd.read_csv(city_data_to_load)\n",
    "ride_df = pd.read_csv(ride_data_to_load)"
   ]
  },
  {
   "cell_type": "markdown",
   "metadata": {},
   "source": [
    "Let's have a look at the DataFrames"
   ]
  },
  {
   "cell_type": "code",
   "execution_count": 8,
   "metadata": {},
   "outputs": [
    {
     "data": {
      "text/html": [
       "<div>\n",
       "<style scoped>\n",
       "    .dataframe tbody tr th:only-of-type {\n",
       "        vertical-align: middle;\n",
       "    }\n",
       "\n",
       "    .dataframe tbody tr th {\n",
       "        vertical-align: top;\n",
       "    }\n",
       "\n",
       "    .dataframe thead th {\n",
       "        text-align: right;\n",
       "    }\n",
       "</style>\n",
       "<table border=\"1\" class=\"dataframe\">\n",
       "  <thead>\n",
       "    <tr style=\"text-align: right;\">\n",
       "      <th></th>\n",
       "      <th>city</th>\n",
       "      <th>driver_count</th>\n",
       "      <th>type</th>\n",
       "    </tr>\n",
       "  </thead>\n",
       "  <tbody>\n",
       "    <tr>\n",
       "      <th>0</th>\n",
       "      <td>Richardfort</td>\n",
       "      <td>38</td>\n",
       "      <td>Urban</td>\n",
       "    </tr>\n",
       "    <tr>\n",
       "      <th>1</th>\n",
       "      <td>Williamsstad</td>\n",
       "      <td>59</td>\n",
       "      <td>Urban</td>\n",
       "    </tr>\n",
       "    <tr>\n",
       "      <th>2</th>\n",
       "      <td>Port Angela</td>\n",
       "      <td>67</td>\n",
       "      <td>Urban</td>\n",
       "    </tr>\n",
       "    <tr>\n",
       "      <th>3</th>\n",
       "      <td>Rodneyfort</td>\n",
       "      <td>34</td>\n",
       "      <td>Urban</td>\n",
       "    </tr>\n",
       "    <tr>\n",
       "      <th>4</th>\n",
       "      <td>West Robert</td>\n",
       "      <td>39</td>\n",
       "      <td>Urban</td>\n",
       "    </tr>\n",
       "  </tbody>\n",
       "</table>\n",
       "</div>"
      ],
      "text/plain": [
       "           city  driver_count   type\n",
       "0   Richardfort            38  Urban\n",
       "1  Williamsstad            59  Urban\n",
       "2   Port Angela            67  Urban\n",
       "3    Rodneyfort            34  Urban\n",
       "4   West Robert            39  Urban"
      ]
     },
     "execution_count": 8,
     "metadata": {},
     "output_type": "execute_result"
    }
   ],
   "source": [
    "city_df.head()"
   ]
  },
  {
   "cell_type": "code",
   "execution_count": 9,
   "metadata": {},
   "outputs": [
    {
     "data": {
      "text/html": [
       "<div>\n",
       "<style scoped>\n",
       "    .dataframe tbody tr th:only-of-type {\n",
       "        vertical-align: middle;\n",
       "    }\n",
       "\n",
       "    .dataframe tbody tr th {\n",
       "        vertical-align: top;\n",
       "    }\n",
       "\n",
       "    .dataframe thead th {\n",
       "        text-align: right;\n",
       "    }\n",
       "</style>\n",
       "<table border=\"1\" class=\"dataframe\">\n",
       "  <thead>\n",
       "    <tr style=\"text-align: right;\">\n",
       "      <th></th>\n",
       "      <th>city</th>\n",
       "      <th>date</th>\n",
       "      <th>fare</th>\n",
       "      <th>ride_id</th>\n",
       "    </tr>\n",
       "  </thead>\n",
       "  <tbody>\n",
       "    <tr>\n",
       "      <th>0</th>\n",
       "      <td>Lake Jonathanshire</td>\n",
       "      <td>2018-01-14 10:14:22</td>\n",
       "      <td>13.83</td>\n",
       "      <td>5739410935873</td>\n",
       "    </tr>\n",
       "    <tr>\n",
       "      <th>1</th>\n",
       "      <td>South Michelleport</td>\n",
       "      <td>2018-03-04 18:24:09</td>\n",
       "      <td>30.24</td>\n",
       "      <td>2343912425577</td>\n",
       "    </tr>\n",
       "    <tr>\n",
       "      <th>2</th>\n",
       "      <td>Port Samanthamouth</td>\n",
       "      <td>2018-02-24 04:29:00</td>\n",
       "      <td>33.44</td>\n",
       "      <td>2005065760003</td>\n",
       "    </tr>\n",
       "    <tr>\n",
       "      <th>3</th>\n",
       "      <td>Rodneyfort</td>\n",
       "      <td>2018-02-10 23:22:03</td>\n",
       "      <td>23.44</td>\n",
       "      <td>5149245426178</td>\n",
       "    </tr>\n",
       "    <tr>\n",
       "      <th>4</th>\n",
       "      <td>South Jack</td>\n",
       "      <td>2018-03-06 04:28:35</td>\n",
       "      <td>34.58</td>\n",
       "      <td>3908451377344</td>\n",
       "    </tr>\n",
       "  </tbody>\n",
       "</table>\n",
       "</div>"
      ],
      "text/plain": [
       "                 city                 date   fare        ride_id\n",
       "0  Lake Jonathanshire  2018-01-14 10:14:22  13.83  5739410935873\n",
       "1  South Michelleport  2018-03-04 18:24:09  30.24  2343912425577\n",
       "2  Port Samanthamouth  2018-02-24 04:29:00  33.44  2005065760003\n",
       "3          Rodneyfort  2018-02-10 23:22:03  23.44  5149245426178\n",
       "4          South Jack  2018-03-06 04:28:35  34.58  3908451377344"
      ]
     },
     "execution_count": 9,
     "metadata": {},
     "output_type": "execute_result"
    }
   ],
   "source": [
    "ride_df.head()"
   ]
  },
  {
   "cell_type": "markdown",
   "metadata": {},
   "source": [
    "Let's also grab some basic info about them"
   ]
  },
  {
   "cell_type": "code",
   "execution_count": 15,
   "metadata": {},
   "outputs": [
    {
     "name": "stdout",
     "output_type": "stream",
     "text": [
      "<class 'pandas.core.frame.DataFrame'>\n",
      "RangeIndex: 120 entries, 0 to 119\n",
      "Data columns (total 3 columns):\n",
      "city            120 non-null object\n",
      "driver_count    120 non-null int64\n",
      "type            120 non-null object\n",
      "dtypes: int64(1), object(2)\n",
      "memory usage: 2.9+ KB\n",
      "None\n"
     ]
    },
    {
     "data": {
      "text/html": [
       "<div>\n",
       "<style scoped>\n",
       "    .dataframe tbody tr th:only-of-type {\n",
       "        vertical-align: middle;\n",
       "    }\n",
       "\n",
       "    .dataframe tbody tr th {\n",
       "        vertical-align: top;\n",
       "    }\n",
       "\n",
       "    .dataframe thead th {\n",
       "        text-align: right;\n",
       "    }\n",
       "</style>\n",
       "<table border=\"1\" class=\"dataframe\">\n",
       "  <thead>\n",
       "    <tr style=\"text-align: right;\">\n",
       "      <th></th>\n",
       "      <th>driver_count</th>\n",
       "    </tr>\n",
       "  </thead>\n",
       "  <tbody>\n",
       "    <tr>\n",
       "      <th>count</th>\n",
       "      <td>120.000000</td>\n",
       "    </tr>\n",
       "    <tr>\n",
       "      <th>mean</th>\n",
       "      <td>24.775000</td>\n",
       "    </tr>\n",
       "    <tr>\n",
       "      <th>std</th>\n",
       "      <td>20.277678</td>\n",
       "    </tr>\n",
       "    <tr>\n",
       "      <th>min</th>\n",
       "      <td>1.000000</td>\n",
       "    </tr>\n",
       "    <tr>\n",
       "      <th>25%</th>\n",
       "      <td>7.000000</td>\n",
       "    </tr>\n",
       "    <tr>\n",
       "      <th>50%</th>\n",
       "      <td>20.500000</td>\n",
       "    </tr>\n",
       "    <tr>\n",
       "      <th>75%</th>\n",
       "      <td>38.250000</td>\n",
       "    </tr>\n",
       "    <tr>\n",
       "      <th>max</th>\n",
       "      <td>73.000000</td>\n",
       "    </tr>\n",
       "  </tbody>\n",
       "</table>\n",
       "</div>"
      ],
      "text/plain": [
       "       driver_count\n",
       "count    120.000000\n",
       "mean      24.775000\n",
       "std       20.277678\n",
       "min        1.000000\n",
       "25%        7.000000\n",
       "50%       20.500000\n",
       "75%       38.250000\n",
       "max       73.000000"
      ]
     },
     "execution_count": 15,
     "metadata": {},
     "output_type": "execute_result"
    }
   ],
   "source": [
    "city_df.info()\n",
    "city_df.describe()"
   ]
  },
  {
   "cell_type": "code",
   "execution_count": 16,
   "metadata": {},
   "outputs": [
    {
     "name": "stdout",
     "output_type": "stream",
     "text": [
      "<class 'pandas.core.frame.DataFrame'>\n",
      "RangeIndex: 2375 entries, 0 to 2374\n",
      "Data columns (total 4 columns):\n",
      "city       2375 non-null object\n",
      "date       2375 non-null object\n",
      "fare       2375 non-null float64\n",
      "ride_id    2375 non-null int64\n",
      "dtypes: float64(1), int64(1), object(2)\n",
      "memory usage: 74.3+ KB\n",
      "None\n"
     ]
    },
    {
     "data": {
      "text/html": [
       "<div>\n",
       "<style scoped>\n",
       "    .dataframe tbody tr th:only-of-type {\n",
       "        vertical-align: middle;\n",
       "    }\n",
       "\n",
       "    .dataframe tbody tr th {\n",
       "        vertical-align: top;\n",
       "    }\n",
       "\n",
       "    .dataframe thead th {\n",
       "        text-align: right;\n",
       "    }\n",
       "</style>\n",
       "<table border=\"1\" class=\"dataframe\">\n",
       "  <thead>\n",
       "    <tr style=\"text-align: right;\">\n",
       "      <th></th>\n",
       "      <th>fare</th>\n",
       "      <th>ride_id</th>\n",
       "    </tr>\n",
       "  </thead>\n",
       "  <tbody>\n",
       "    <tr>\n",
       "      <th>count</th>\n",
       "      <td>2375.000000</td>\n",
       "      <td>2.375000e+03</td>\n",
       "    </tr>\n",
       "    <tr>\n",
       "      <th>mean</th>\n",
       "      <td>26.753112</td>\n",
       "      <td>4.887270e+12</td>\n",
       "    </tr>\n",
       "    <tr>\n",
       "      <th>std</th>\n",
       "      <td>12.109465</td>\n",
       "      <td>2.907361e+12</td>\n",
       "    </tr>\n",
       "    <tr>\n",
       "      <th>min</th>\n",
       "      <td>4.050000</td>\n",
       "      <td>3.218337e+08</td>\n",
       "    </tr>\n",
       "    <tr>\n",
       "      <th>25%</th>\n",
       "      <td>17.190000</td>\n",
       "      <td>2.381175e+12</td>\n",
       "    </tr>\n",
       "    <tr>\n",
       "      <th>50%</th>\n",
       "      <td>26.600000</td>\n",
       "      <td>4.748541e+12</td>\n",
       "    </tr>\n",
       "    <tr>\n",
       "      <th>75%</th>\n",
       "      <td>36.645000</td>\n",
       "      <td>7.461936e+12</td>\n",
       "    </tr>\n",
       "    <tr>\n",
       "      <th>max</th>\n",
       "      <td>58.550000</td>\n",
       "      <td>9.991538e+12</td>\n",
       "    </tr>\n",
       "  </tbody>\n",
       "</table>\n",
       "</div>"
      ],
      "text/plain": [
       "              fare       ride_id\n",
       "count  2375.000000  2.375000e+03\n",
       "mean     26.753112  4.887270e+12\n",
       "std      12.109465  2.907361e+12\n",
       "min       4.050000  3.218337e+08\n",
       "25%      17.190000  2.381175e+12\n",
       "50%      26.600000  4.748541e+12\n",
       "75%      36.645000  7.461936e+12\n",
       "max      58.550000  9.991538e+12"
      ]
     },
     "execution_count": 16,
     "metadata": {},
     "output_type": "execute_result"
    }
   ],
   "source": [
    "ride_df.info()\n",
    "ride_df.describe()"
   ]
  },
  {
   "cell_type": "markdown",
   "metadata": {},
   "source": [
    "We have a couple pretty clean datasets here. No null entries to speak of. Low column count too so this will make it a pretty simple join."
   ]
  },
  {
   "cell_type": "code",
   "execution_count": 59,
   "metadata": {},
   "outputs": [
    {
     "data": {
      "text/plain": [
       "Index(['Deanville', 'Lake Scott', 'Loganberg', 'North Jeffrey', 'Amandaburgh',\n",
       "       'South Jennifer', 'Port Johnbury', 'East Kentstad', 'Johnton',\n",
       "       'Huntermouth',\n",
       "       ...\n",
       "       'Nicolechester', 'West Samuelburgh', 'Bethanyland', 'Newtonview',\n",
       "       'Justinberg', 'Lake Latoyabury', 'Martinezhaven', 'New Paulton',\n",
       "       'Karenberg', 'Roberthaven'],\n",
       "      dtype='object', length=120)"
      ]
     },
     "execution_count": 59,
     "metadata": {},
     "output_type": "execute_result"
    }
   ],
   "source": [
    "city_df[\"city\"].value_counts().index"
   ]
  },
  {
   "cell_type": "code",
   "execution_count": 60,
   "metadata": {},
   "outputs": [
    {
     "data": {
      "text/plain": [
       "Index(['West Angela', 'South Karenland', 'North Jason', 'Liumouth',\n",
       "       'Port Frank', 'South Phillip', 'South Evanton', 'West Robert',\n",
       "       'South Michelleport', 'Justinberg',\n",
       "       ...\n",
       "       'Taylorhaven', 'New Ryantown', 'Harringtonfort', 'Jessicaport',\n",
       "       'Lake Jamie', 'Randallchester', 'Penaborough', 'South Saramouth',\n",
       "       'Newtonview', 'Garzaport'],\n",
       "      dtype='object', length=120)"
      ]
     },
     "execution_count": 60,
     "metadata": {},
     "output_type": "execute_result"
    }
   ],
   "source": [
    "ride_df[\"city\"].value_counts().index"
   ]
  },
  {
   "cell_type": "markdown",
   "metadata": {},
   "source": [
    "Same city count too. But are the list of cities themselves the same between the two DataFrames?"
   ]
  },
  {
   "cell_type": "code",
   "execution_count": 29,
   "metadata": {},
   "outputs": [
    {
     "name": "stdout",
     "output_type": "stream",
     "text": [
      "Cities in city_df only: 0\n",
      "Cities in ride_df only: 0\n"
     ]
    }
   ],
   "source": [
    "city_df_cities = list(city_df[\"city\"].value_counts().index)\n",
    "ride_df_cities = list(ride_df[\"city\"].value_counts().index)\n",
    "\n",
    "def missing_cities(left, right):\n",
    "    missing_cities_count = 0\n",
    "    \n",
    "    for city in left:\n",
    "        if city not in right:\n",
    "            missing_cities_count += 1\n",
    "    \n",
    "    return missing_cities_count\n",
    "\n",
    "city_only = missing_cities(city_df_cities, ride_df_cities)\n",
    "ride_only = missing_cities(ride_df_cities, city_df_cities)\n",
    "print(f\"Cities in city_df only: {city_only}\")\n",
    "print(f\"Cities in ride_df only: {ride_only}\")"
   ]
  },
  {
   "cell_type": "markdown",
   "metadata": {},
   "source": [
    "Ok, we're totally safe then. There are no cities that are in one DataFrame, but not the other."
   ]
  },
  {
   "cell_type": "code",
   "execution_count": 212,
   "metadata": {},
   "outputs": [
    {
     "data": {
      "text/html": [
       "<div>\n",
       "<style scoped>\n",
       "    .dataframe tbody tr th:only-of-type {\n",
       "        vertical-align: middle;\n",
       "    }\n",
       "\n",
       "    .dataframe tbody tr th {\n",
       "        vertical-align: top;\n",
       "    }\n",
       "\n",
       "    .dataframe thead th {\n",
       "        text-align: right;\n",
       "    }\n",
       "</style>\n",
       "<table border=\"1\" class=\"dataframe\">\n",
       "  <thead>\n",
       "    <tr style=\"text-align: right;\">\n",
       "      <th></th>\n",
       "      <th>city</th>\n",
       "      <th>date</th>\n",
       "      <th>fare</th>\n",
       "      <th>ride_id</th>\n",
       "      <th>driver_count</th>\n",
       "      <th>type</th>\n",
       "    </tr>\n",
       "  </thead>\n",
       "  <tbody>\n",
       "    <tr>\n",
       "      <th>0</th>\n",
       "      <td>Lake Jonathanshire</td>\n",
       "      <td>2018-01-14 10:14:22</td>\n",
       "      <td>13.83</td>\n",
       "      <td>5739410935873</td>\n",
       "      <td>5</td>\n",
       "      <td>Urban</td>\n",
       "    </tr>\n",
       "    <tr>\n",
       "      <th>1</th>\n",
       "      <td>Lake Jonathanshire</td>\n",
       "      <td>2018-04-07 20:51:11</td>\n",
       "      <td>31.25</td>\n",
       "      <td>4441251834598</td>\n",
       "      <td>5</td>\n",
       "      <td>Urban</td>\n",
       "    </tr>\n",
       "    <tr>\n",
       "      <th>2</th>\n",
       "      <td>Lake Jonathanshire</td>\n",
       "      <td>2018-03-09 23:45:55</td>\n",
       "      <td>19.89</td>\n",
       "      <td>2389495660448</td>\n",
       "      <td>5</td>\n",
       "      <td>Urban</td>\n",
       "    </tr>\n",
       "    <tr>\n",
       "      <th>3</th>\n",
       "      <td>Lake Jonathanshire</td>\n",
       "      <td>2018-04-07 18:09:21</td>\n",
       "      <td>24.28</td>\n",
       "      <td>7796805191168</td>\n",
       "      <td>5</td>\n",
       "      <td>Urban</td>\n",
       "    </tr>\n",
       "    <tr>\n",
       "      <th>4</th>\n",
       "      <td>Lake Jonathanshire</td>\n",
       "      <td>2018-01-02 14:14:50</td>\n",
       "      <td>13.89</td>\n",
       "      <td>424254840012</td>\n",
       "      <td>5</td>\n",
       "      <td>Urban</td>\n",
       "    </tr>\n",
       "  </tbody>\n",
       "</table>\n",
       "</div>"
      ],
      "text/plain": [
       "                 city                 date   fare        ride_id  \\\n",
       "0  Lake Jonathanshire  2018-01-14 10:14:22  13.83  5739410935873   \n",
       "1  Lake Jonathanshire  2018-04-07 20:51:11  31.25  4441251834598   \n",
       "2  Lake Jonathanshire  2018-03-09 23:45:55  19.89  2389495660448   \n",
       "3  Lake Jonathanshire  2018-04-07 18:09:21  24.28  7796805191168   \n",
       "4  Lake Jonathanshire  2018-01-02 14:14:50  13.89   424254840012   \n",
       "\n",
       "   driver_count   type  \n",
       "0             5  Urban  \n",
       "1             5  Urban  \n",
       "2             5  Urban  \n",
       "3             5  Urban  \n",
       "4             5  Urban  "
      ]
     },
     "execution_count": 212,
     "metadata": {},
     "output_type": "execute_result"
    }
   ],
   "source": [
    "# Combine the data into a single dataset\n",
    "city_rides_df = pd.merge(ride_df,city_df,how=\"inner\",on=\"city\")\n",
    "\n",
    "# Display the data table for preview\n",
    "city_rides_df.head()"
   ]
  },
  {
   "cell_type": "markdown",
   "metadata": {},
   "source": [
    "What are all the city types?"
   ]
  },
  {
   "cell_type": "code",
   "execution_count": 42,
   "metadata": {},
   "outputs": [
    {
     "data": {
      "text/plain": [
       "Urban       1625\n",
       "Suburban     625\n",
       "Rural        125\n",
       "Name: type, dtype: int64"
      ]
     },
     "execution_count": 42,
     "metadata": {},
     "output_type": "execute_result"
    }
   ],
   "source": [
    "city_rides_df[\"type\"].value_counts()"
   ]
  },
  {
   "cell_type": "markdown",
   "metadata": {},
   "source": [
    "## Bubble Plot of Ride Sharing Data"
   ]
  },
  {
   "cell_type": "code",
   "execution_count": 256,
   "metadata": {},
   "outputs": [
    {
     "data": {
      "text/html": [
       "<div>\n",
       "<style scoped>\n",
       "    .dataframe tbody tr th:only-of-type {\n",
       "        vertical-align: middle;\n",
       "    }\n",
       "\n",
       "    .dataframe tbody tr th {\n",
       "        vertical-align: top;\n",
       "    }\n",
       "\n",
       "    .dataframe thead th {\n",
       "        text-align: right;\n",
       "    }\n",
       "</style>\n",
       "<table border=\"1\" class=\"dataframe\">\n",
       "  <thead>\n",
       "    <tr style=\"text-align: right;\">\n",
       "      <th></th>\n",
       "      <th>Total_Rides</th>\n",
       "      <th>Average_Fare</th>\n",
       "      <th>City_Type</th>\n",
       "      <th>Driver_Count</th>\n",
       "    </tr>\n",
       "    <tr>\n",
       "      <th>city</th>\n",
       "      <th></th>\n",
       "      <th></th>\n",
       "      <th></th>\n",
       "      <th></th>\n",
       "    </tr>\n",
       "  </thead>\n",
       "  <tbody>\n",
       "    <tr>\n",
       "      <th>Amandaburgh</th>\n",
       "      <td>18</td>\n",
       "      <td>24.641667</td>\n",
       "      <td>Urban</td>\n",
       "      <td>12</td>\n",
       "    </tr>\n",
       "    <tr>\n",
       "      <th>Barajasview</th>\n",
       "      <td>22</td>\n",
       "      <td>25.332273</td>\n",
       "      <td>Urban</td>\n",
       "      <td>26</td>\n",
       "    </tr>\n",
       "    <tr>\n",
       "      <th>Barronchester</th>\n",
       "      <td>16</td>\n",
       "      <td>36.422500</td>\n",
       "      <td>Suburban</td>\n",
       "      <td>11</td>\n",
       "    </tr>\n",
       "    <tr>\n",
       "      <th>Bethanyland</th>\n",
       "      <td>18</td>\n",
       "      <td>32.956111</td>\n",
       "      <td>Suburban</td>\n",
       "      <td>22</td>\n",
       "    </tr>\n",
       "    <tr>\n",
       "      <th>Bradshawfurt</th>\n",
       "      <td>10</td>\n",
       "      <td>40.064000</td>\n",
       "      <td>Rural</td>\n",
       "      <td>7</td>\n",
       "    </tr>\n",
       "  </tbody>\n",
       "</table>\n",
       "</div>"
      ],
      "text/plain": [
       "               Total_Rides  Average_Fare City_Type  Driver_Count\n",
       "city                                                            \n",
       "Amandaburgh             18     24.641667     Urban            12\n",
       "Barajasview             22     25.332273     Urban            26\n",
       "Barronchester           16     36.422500  Suburban            11\n",
       "Bethanyland             18     32.956111  Suburban            22\n",
       "Bradshawfurt            10     40.064000     Rural             7"
      ]
     },
     "execution_count": 256,
     "metadata": {},
     "output_type": "execute_result"
    }
   ],
   "source": [
    "# Obtain the x and y coordinates for each of the three city types\n",
    "city_grp_df = city_rides_df.groupby(\"city\").agg({\"ride_id\":\"count\", \"fare\":\"mean\", \"type\": lambda x: x.unique(), \"driver_count\":lambda x: x.unique()})\n",
    "city_grp_df.rename(columns={\"ride_id\":\"Total_Rides\",\"fare\":\"Average_Fare\",\"type\":\"City_Type\",\"driver_count\":\"Driver_Count\"}, inplace=True)\n",
    "city_grp_df.head()"
   ]
  },
  {
   "cell_type": "code",
   "execution_count": 261,
   "metadata": {},
   "outputs": [
    {
     "data": {
      "image/png": "[encoded data removed]",
      "text/plain": [
       "<Figure size 432x288 with 1 Axes>"
      ]
     },
     "metadata": {
      "needs_background": "light"
     },
     "output_type": "display_data"
    }
   ],
   "source": [
    "##### Build the scatter plots for each city types\n",
    "city_types = [\"Urban\", \"Suburban\", \"Rural\"]\n",
    "colors = {'Urban':'coral', 'Suburban':'skyblue', 'Rural':'gold'}\n",
    "# bubble_plot = city_grp_df.plot(kind=\"scatter\", x=\"Total_Rides\", y=\"Average_Fare\", s=city_grp_df[\"Driver_Count\"],\n",
    "#                                edgecolor=\"black\", alpha= 0.75, c=city_grp_df['City_Type'].apply(lambda x: colors[x]),\n",
    "#                                label = city_grp_df[\"City_Type\"]\n",
    "#                               );\n",
    "\n",
    "fig, ax = plt.subplots()\n",
    "for city in city_types:\n",
    "    # increased size s 10x for visibility\n",
    "    ax.scatter(\n",
    "               x=city_grp_df[city_grp_df[\"City_Type\"]==city][\"Total_Rides\"],\n",
    "               y=city_grp_df[city_grp_df[\"City_Type\"]==city][\"Average_Fare\"],\n",
    "               s = city_grp_df[city_grp_df[\"City_Type\"]==city][\"Driver_Count\"]*10,\n",
    "               c = colors[city],\n",
    "               edgecolor=\"black\",\n",
    "               label = city,\n",
    "               alpha = 0.75\n",
    "              )\n",
    "\n",
    "# Incorporate the other graph properties\n",
    "ax.grid()\n",
    "ax.set_title(\"Pyber Ride Sharing Data (2016)\")\n",
    "ax.set_xlabel(\"Total Number of Rides (Per City)\")\n",
    "ax.set_ylabel(\"Average Fare ($)\")\n",
    "\n",
    "# Create a legend\n",
    "legend = ax.legend(title = \"City Types\")\n",
    "\n",
    "# Fix size of legend markers to be same size\n",
    "for i in range(len(legend.legendHandles)):\n",
    "    legend.legendHandles[i]._sizes = [30]\n",
    "\n",
    "# Incorporate a text label regarding circle size\n",
    "ax.text(42,35,\"Note:\\nCircle size correlates with driver count per city\")\n",
    "\n",
    "# Save Figure\n",
    "plt.savefig(\"images/pyber.png\")"
   ]
  },
  {
   "cell_type": "markdown",
   "metadata": {},
   "source": [
    "## Total Fares by City Type"
   ]
  },
  {
   "cell_type": "code",
   "execution_count": 204,
   "metadata": {},
   "outputs": [
    {
     "data": {
      "image/png": "[encoded data removed]",
      "text/plain": [
       "<Figure size 432x288 with 1 Axes>"
      ]
     },
     "metadata": {},
     "output_type": "display_data"
    }
   ],
   "source": [
    "# Calculate Type Percents\n",
    "colors = {'Urban':'coral', 'Suburban':'skyblue', 'Rural':'gold'}\n",
    "tot_fares_by_city_type = city_rides_df.groupby(\"type\").agg({\"fare\":\"sum\"})\n",
    "\n",
    "# Build Pie Chart\n",
    "fig = tot_fares_by_city_type.plot(kind=\"pie\", y=\"fare\", autopct=\"%1.1f%%\", legend=False, explode = [0,0,.1],\n",
    "                                  colors = ['gold', 'skyblue', 'coral'], shadow=True, startangle=140);\n",
    "fig.set_ylabel(\"\");\n",
    "fig.set_title(\"% of Total Fares by City Type\");\n",
    "\n",
    "# Save Figure\n",
    "plt.savefig(\"images/total_fares_by_city_type.png\")"
   ]
  },
  {
   "cell_type": "markdown",
   "metadata": {},
   "source": [
    "## Total Rides by City Type"
   ]
  },
  {
   "cell_type": "code",
   "execution_count": 208,
   "metadata": {},
   "outputs": [
    {
     "data": {
      "image/png": "[encoded data removed]",
      "text/plain": [
       "<Figure size 432x288 with 1 Axes>"
      ]
     },
     "metadata": {},
     "output_type": "display_data"
    }
   ],
   "source": [
    "# Calculate Ride Percents\n",
    "colors = {'Urban':'coral', 'Suburban':'skyblue', 'Rural':'gold'}\n",
    "tot_fares_by_city_type = city_rides_df.groupby(\"type\").agg({\"ride_id\":\"count\"})\n",
    "\n",
    "# Build Pie Chart\n",
    "fig = tot_fares_by_city_type.plot(kind=\"pie\", y=\"ride_id\", autopct=\"%1.1f%%\", legend=False, explode = [0,0,.1],\n",
    "                                  colors = ['gold', 'skyblue', 'coral'], shadow=True, startangle=140);\n",
    "fig.set_ylabel(\"\");\n",
    "fig.set_title(\"% of Total Rides by City Type\");\n",
    "\n",
    "# Save Figure\n",
    "plt.savefig(\"images/total_rides_by_city_type.png\")"
   ]
  },
  {
   "cell_type": "markdown",
   "metadata": {},
   "source": [
    "## Total Drivers by City Type"
   ]
  },
  {
   "cell_type": "code",
   "execution_count": 260,
   "metadata": {},
   "outputs": [
    {
     "data": {
      "image/png": "[encoded data removed]",
      "text/plain": [
       "<Figure size 432x288 with 1 Axes>"
      ]
     },
     "metadata": {},
     "output_type": "display_data"
    }
   ],
   "source": [
    "# Calculate Driver Percents\n",
    "# use city_grp_df since it has corrected Driver Count\n",
    "colors = {'Urban':'coral', 'Suburban':'skyblue', 'Rural':'gold'}\n",
    "tot_fares_by_city_type = city_grp_df.groupby(\"City_Type\").agg({\"Driver_Count\":\"sum\"}) \n",
    "\n",
    "# Build Pie Chart\n",
    "fig = tot_fares_by_city_type.plot(kind=\"pie\", y=\"Driver_Count\", autopct=\"%1.1f%%\", legend=False, explode = [0,0,.1],\n",
    "                                  colors = ['gold', 'skyblue', 'coral'], shadow=True, startangle=140);\n",
    "fig.set_ylabel(\"\");\n",
    "fig.set_title(\"% of Total Drivers by City Type\");\n",
    "\n",
    "# Save Figure\n",
    "plt.savefig(\"images/total_drivers_by_city_type.png\")"
   ]
  },
  {
   "cell_type": "code",
   "execution_count": null,
   "metadata": {},
   "outputs": [],
   "source": []
  }
 ],
 "metadata": {
  "anaconda-cloud": {},
  "kernelspec": {
   "display_name": "Conda [PythonData]",
   "language": "python",
   "name": "pythondata"
  },
  "language_info": {
   "codemirror_mode": {
    "name": "ipython",
    "version": 3
   },
   "file_extension": ".py",
   "mimetype": "text/x-python",
   "name": "python",
   "nbconvert_exporter": "python",
   "pygments_lexer": "ipython3",
   "version": "3.6.8"
  },
  "latex_envs": {
   "LaTeX_envs_menu_present": true,
   "autoclose": false,
   "autocomplete": true,
   "bibliofile": "biblio.bib",
   "cite_by": "apalike",
   "current_citInitial": 1,
   "eqLabelWithNumbers": true,
   "eqNumInitial": 1,
   "hotkeys": {
    "equation": "Ctrl-E",
    "itemize": "Ctrl-I"
   },
   "labels_anchors": false,
   "latex_user_defs": false,
   "report_style_numbering": false,
   "user_envs_cfg": false
  }
 },
 "nbformat": 4,
 "nbformat_minor": 2
}
